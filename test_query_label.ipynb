{
 "cells": [
  {
   "cell_type": "code",
   "execution_count": 84,
   "source": [
    "\r\n",
    "import torch\r\n",
    "import numpy as np\r\n",
    "import random"
   ],
   "outputs": [],
   "metadata": {}
  },
  {
   "cell_type": "code",
   "execution_count": 85,
   "source": [
    "label = [\r\n",
    "    [0, 1, 0, 1],\r\n",
    "    [0, 1, 0, 0],\r\n",
    "    [0, 1, 1, 1],\r\n",
    "    [0, 0, 0, 0],\r\n",
    "    [0, 1, 1, 1]\r\n",
    "]\r\n",
    "label = torch.tensor(label)"
   ],
   "outputs": [],
   "metadata": {}
  },
  {
   "cell_type": "code",
   "execution_count": 151,
   "source": [
    "expected_label = [\r\n",
    "    [0, 1, 0, 0],\r\n",
    "    [0, 0, 1, 0]\r\n",
    "]"
   ],
   "outputs": [],
   "metadata": {}
  },
  {
   "cell_type": "code",
   "execution_count": 147,
   "source": [
    "#index_expected = expected_label.index(1)\r\n",
    "#index_expected = (tf_expected_label == max(tf_expected_label)).nonzero()\r\n",
    "#index_expected"
   ],
   "outputs": [],
   "metadata": {}
  },
  {
   "cell_type": "code",
   "execution_count": 148,
   "source": [
    "#(label == 1)"
   ],
   "outputs": [],
   "metadata": {}
  },
  {
   "cell_type": "code",
   "execution_count": 152,
   "source": [
    "tf_expected_label = torch.tensor(expected_label)\r\n",
    "tf_expected_label.shape"
   ],
   "outputs": [
    {
     "output_type": "execute_result",
     "data": {
      "text/plain": [
       "torch.Size([2, 4])"
      ]
     },
     "metadata": {},
     "execution_count": 152
    }
   ],
   "metadata": {}
  },
  {
   "cell_type": "code",
   "execution_count": 155,
   "source": [
    "tf_expected_label.transpose(1, 0)"
   ],
   "outputs": [
    {
     "output_type": "execute_result",
     "data": {
      "text/plain": [
       "tensor([[0, 0],\n",
       "        [1, 0],\n",
       "        [0, 1],\n",
       "        [0, 0]])"
      ]
     },
     "metadata": {},
     "execution_count": 155
    }
   ],
   "metadata": {}
  },
  {
   "cell_type": "code",
   "execution_count": 156,
   "source": [
    "label_index = label.matmul(tf_expected_label.transpose(1, 0))\r\n",
    "label_index"
   ],
   "outputs": [
    {
     "output_type": "execute_result",
     "data": {
      "text/plain": [
       "tensor([[1, 0],\n",
       "        [1, 0],\n",
       "        [1, 1],\n",
       "        [0, 0],\n",
       "        [1, 1]])"
      ]
     },
     "metadata": {},
     "execution_count": 156
    }
   ],
   "metadata": {}
  },
  {
   "cell_type": "code",
   "execution_count": 177,
   "source": [
    "label_index.transpose(1, 0)"
   ],
   "outputs": [
    {
     "output_type": "execute_result",
     "data": {
      "text/plain": [
       "tensor([[1, 1, 1, 0, 1],\n",
       "        [0, 0, 1, 0, 1]])"
      ]
     },
     "metadata": {},
     "execution_count": 177
    }
   ],
   "metadata": {}
  },
  {
   "cell_type": "code",
   "execution_count": 179,
   "source": [
    "label_index_one = (label_index.transpose(1, 0) == 1.0).nonzero()\r\n",
    "label_index_one"
   ],
   "outputs": [
    {
     "output_type": "execute_result",
     "data": {
      "text/plain": [
       "tensor([[0, 0],\n",
       "        [0, 1],\n",
       "        [0, 2],\n",
       "        [0, 4],\n",
       "        [1, 2],\n",
       "        [1, 4]])"
      ]
     },
     "metadata": {},
     "execution_count": 179
    }
   ],
   "metadata": {}
  },
  {
   "cell_type": "code",
   "execution_count": 176,
   "source": [
    "label[label_index_one.transpose(0,1)]"
   ],
   "outputs": [
    {
     "output_type": "execute_result",
     "data": {
      "text/plain": [
       "tensor([[[0, 1, 0, 1],\n",
       "         [0, 1, 0, 0],\n",
       "         [0, 1, 1, 1],\n",
       "         [0, 1, 1, 1],\n",
       "         [0, 1, 1, 1],\n",
       "         [0, 1, 1, 1]],\n",
       "\n",
       "        [[0, 1, 0, 1],\n",
       "         [0, 1, 0, 1],\n",
       "         [0, 1, 0, 1],\n",
       "         [0, 1, 0, 0],\n",
       "         [0, 1, 0, 1],\n",
       "         [0, 1, 0, 0]]])"
      ]
     },
     "metadata": {},
     "execution_count": 176
    }
   ],
   "metadata": {}
  },
  {
   "cell_type": "code",
   "execution_count": 172,
   "source": [
    "task_idx = random.sample((list(label_index_one)), 1)\r\n",
    "task_idx"
   ],
   "outputs": [
    {
     "output_type": "execute_result",
     "data": {
      "text/plain": [
       "[tensor([2, 0])]"
      ]
     },
     "metadata": {},
     "execution_count": 172
    }
   ],
   "metadata": {}
  },
  {
   "cell_type": "code",
   "execution_count": 162,
   "source": [
    "label"
   ],
   "outputs": [
    {
     "output_type": "execute_result",
     "data": {
      "text/plain": [
       "tensor([[0, 1, 0, 1],\n",
       "        [0, 1, 0, 0],\n",
       "        [0, 1, 1, 1],\n",
       "        [0, 0, 0, 0],\n",
       "        [0, 1, 1, 1]])"
      ]
     },
     "metadata": {},
     "execution_count": 162
    }
   ],
   "metadata": {}
  },
  {
   "cell_type": "code",
   "execution_count": 163,
   "source": [
    "[label[x] for x in task_idx]"
   ],
   "outputs": [
    {
     "output_type": "execute_result",
     "data": {
      "text/plain": [
       "[tensor([[0, 1, 0, 0],\n",
       "         [0, 1, 0, 1]]),\n",
       " tensor([[0, 1, 0, 1],\n",
       "         [0, 1, 0, 1]])]"
      ]
     },
     "metadata": {},
     "execution_count": 163
    }
   ],
   "metadata": {}
  },
  {
   "cell_type": "code",
   "execution_count": 26,
   "source": [
    "import torch\r\n",
    "\r\n",
    "a = torch.randn(10)\r\n",
    "b = a <= 0\r\n",
    "indices = b.nonzero()\r\n",
    "print(a, b, indices)"
   ],
   "outputs": [
    {
     "output_type": "stream",
     "name": "stdout",
     "text": [
      "tensor([-0.2380, -1.5193, -0.5560, -2.4470,  0.2277, -1.2537,  1.2606, -0.8237,\n",
      "        -0.2568,  0.3385]) tensor([ True,  True,  True,  True, False,  True, False,  True,  True, False]) tensor([[0],\n",
      "        [1],\n",
      "        [2],\n",
      "        [3],\n",
      "        [5],\n",
      "        [7],\n",
      "        [8]])\n"
     ]
    }
   ],
   "metadata": {}
  },
  {
   "cell_type": "code",
   "execution_count": null,
   "source": [],
   "outputs": [],
   "metadata": {}
  }
 ],
 "metadata": {
  "orig_nbformat": 4,
  "language_info": {
   "name": "python",
   "version": "3.6.7",
   "mimetype": "text/x-python",
   "codemirror_mode": {
    "name": "ipython",
    "version": 3
   },
   "pygments_lexer": "ipython3",
   "nbconvert_exporter": "python",
   "file_extension": ".py"
  },
  "kernelspec": {
   "name": "python3",
   "display_name": "Python 3.6.7 64-bit ('python36': conda)"
  },
  "interpreter": {
   "hash": "a0e8cd18173f442396450e7fcd4ac8771ac784f0fd0273fa253fa66de9e09424"
  }
 },
 "nbformat": 4,
 "nbformat_minor": 2
}